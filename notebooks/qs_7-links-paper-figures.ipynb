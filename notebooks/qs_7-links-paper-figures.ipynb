{
 "cells": [
  {
   "cell_type": "markdown",
   "metadata": {},
   "source": [
    "# 7-link Model (QS)"
   ]
  },
  {
   "cell_type": "code",
   "execution_count": 1,
   "metadata": {},
   "outputs": [
    {
     "name": "stderr",
     "output_type": "stream",
     "text": [
      "c:\\dev\\python\\gamm2020\\lib\\site-packages\\sympy\\__init__.py:676: SymPyDeprecationWarning: \n",
      "\n",
      "importing sympy.core.numbers with 'from sympy import *' has been\n",
      "deprecated since SymPy 1.6. Use import sympy.core.numbers instead. See\n",
      "https://github.com/sympy/sympy/issues/18245 for more info.\n",
      "\n",
      "  deprecated_since_version=\"1.6\").warn()\n"
     ]
    }
   ],
   "source": [
    "%load_ext ipydex.displaytools\n",
    "%matplotlib inline\n",
    "\n",
    "import math\n",
    "import ipydex\n",
    "import sympy as sp\n",
    "import numpy as npy  # we need `np` later \n",
    "from sympy import sin, cos, pi\n",
    "from sympy.interactive import printing\n",
    "import symbtools as st\n",
    "import symbtools.modeltools as mt\n",
    "from symbtools.modeltools import Rz # rotation matrix in the xy plane (c, -s; s, c)\n",
    "import scipy.integrate as sc_integrate\n",
    "import scipy.optimize\n",
    "import matplotlib.pyplot as plt\n",
    "from cycler import cycler\n",
    "\n",
    "\n",
    "printing.init_printing(1)"
   ]
  },
  {
   "cell_type": "code",
   "execution_count": 2,
   "metadata": {},
   "outputs": [
    {
     "data": {
      "image/png": "[encoded data removed]",
      "text/latex": [
       "ttheta.T := $\\displaystyle \\left[\\begin{matrix}q_{1} & p_{1} & s_{1} & q_{2} & p_{2} & s_{2}\\end{matrix}\\right]$"
      ],
      "text/plain": [
       "ttheta.T := [q₁  p₁  s₁  q₂  p₂  s₂]"
      ]
     },
     "metadata": {},
     "output_type": "display_data"
    },
    {
     "data": {
      "text/plain": [
       "---"
      ]
     },
     "metadata": {},
     "output_type": "display_data"
    },
    {
     "data": {
      "image/png": "[encoded data removed]",
      "text/latex": [
       "tthetad.T := $\\displaystyle \\left[\\begin{matrix}\\dot{q}_{1} & \\dot{p}_{1} & \\dot{s}_{1} & \\dot{q}_{2} & \\dot{p}_{2} & \\dot{s}_{2}\\end{matrix}\\right]$"
      ],
      "text/plain": [
       "tthetad.T := [q̇₁  ṗ₁  ṡ₁  q̇₂  ṗ₂  ṡ₂]"
      ]
     },
     "metadata": {},
     "output_type": "display_data"
    },
    {
     "data": {
      "text/plain": [
       "---"
      ]
     },
     "metadata": {},
     "output_type": "display_data"
    },
    {
     "data": {
      "image/png": "[encoded data removed]",
      "text/latex": [
       "tthetadd.T := $\\displaystyle \\left[\\begin{matrix}\\ddot{q}_{1} & \\ddot{p}_{1} & \\ddot{s}_{1} & \\ddot{q}_{2} & \\ddot{p}_{2} & \\ddot{s}_{2}\\end{matrix}\\right]$"
      ],
      "text/plain": [
       "tthetadd.T := [q̈₁  p̈₁  s̈₁  q̈₂  p̈₂  s̈₂]"
      ]
     },
     "metadata": {},
     "output_type": "display_data"
    },
    {
     "data": {
      "text/plain": [
       "---"
      ]
     },
     "metadata": {},
     "output_type": "display_data"
    },
    {
     "data": {
      "image/png": "[encoded data removed]",
      "text/latex": [
       "ttheta_all.T := $\\displaystyle \\left[\\begin{array}{cccccccccccccccccc}q_{1} & p_{1} & s_{1} & q_{2} & p_{2} & s_{2} & \\dot{q}_{1} & \\dot{p}_{1} & \\dot{s}_{1} & \\dot{q}_{2} & \\dot{p}_{2} & \\dot{s}_{2} & \\ddot{q}_{1} & \\ddot{p}_{1} & \\ddot{s}_{1} & \\ddot{q}_{2} & \\ddot{p}_{2} & \\ddot{s}_{2}\\end{array}\\right]$"
      ],
      "text/plain": [
       "ttheta_all.T := [q₁  p₁  s₁  q₂  p₂  s₂  q̇₁  ṗ₁  ṡ₁  q̇₂  ṗ₂  ṡ₂  q̈₁  p̈₁  s̈₁  q̈₂  p̈₂  s̈₂]"
      ]
     },
     "metadata": {},
     "output_type": "display_data"
    },
    {
     "data": {
      "text/plain": [
       "---"
      ]
     },
     "metadata": {},
     "output_type": "display_data"
    }
   ],
   "source": [
    "t = sp.Symbol('t')  # time variable\n",
    "np = 2\n",
    "nq = 2\n",
    "ns = 2\n",
    "n = np + nq + ns \n",
    "\n",
    "pp = st.symb_vector(\"p1:{0}\".format(np+1))\n",
    "qq = st.symb_vector(\"q1:{0}\".format(nq+1))\n",
    "ss = st.symb_vector(\"s1:{0}\".format(ns+1))\n",
    "\n",
    "ttheta = st.row_stack(qq[0], pp[0], ss[0], qq[1], pp[1], ss[1]) ##:T\n",
    "tthetad = st.time_deriv(ttheta, ttheta) ##:T\n",
    "tthetadd = st.time_deriv(ttheta, ttheta, order=2) ##:T\n",
    "\n",
    "ttheta_all = st.concat_rows (ttheta, tthetad, tthetadd) ##:T\n",
    "\n",
    "st.make_global(ttheta, tthetad, tthetadd)"
   ]
  },
  {
   "cell_type": "code",
   "execution_count": 3,
   "metadata": {},
   "outputs": [],
   "source": [
    "params = sp.symbols('c1, c2, c3, c4, c5, c6, m1, m2, m3, m4, m5, m6, J1, J2, J3, J4, J5, J6, l1, l2, l3, l4, l5, l6, d, g')\n",
    "st.make_global(params)\n",
    "\n",
    "tau1, tau2, tau3, tau4, tau5, tau6 = ttau = st.symb_vector(\"tau1, tau2, tau3, tau4, tau5, tau6 \")"
   ]
  },
  {
   "cell_type": "code",
   "execution_count": 4,
   "metadata": {},
   "outputs": [
    {
     "data": {
      "image/png": "[encoded data removed]",
      "text/latex": [
       "G0 := $\\displaystyle \\left[\\begin{matrix}0\\\\0\\end{matrix}\\right]$"
      ],
      "text/plain": [
       "G0 := ⎡0⎤\n",
       "⎢ ⎥\n",
       "⎣0⎦"
      ]
     },
     "metadata": {},
     "output_type": "display_data"
    },
    {
     "data": {
      "text/plain": [
       "---"
      ]
     },
     "metadata": {},
     "output_type": "display_data"
    },
    {
     "data": {
      "image/png": "[encoded data removed]",
      "text/latex": [
       "C1 := $\\displaystyle \\left[\\begin{matrix}c_{1} \\cos{\\left(q_{1} \\right)}\\\\c_{1} \\sin{\\left(q_{1} \\right)}\\end{matrix}\\right]$"
      ],
      "text/plain": [
       "C1 := ⎡c₁⋅cos(q₁)⎤\n",
       "⎢          ⎥\n",
       "⎣c₁⋅sin(q₁)⎦"
      ]
     },
     "metadata": {},
     "output_type": "display_data"
    },
    {
     "data": {
      "text/plain": [
       "---"
      ]
     },
     "metadata": {},
     "output_type": "display_data"
    },
    {
     "data": {
      "image/png": "[encoded data removed]",
      "text/latex": [
       "G1 := $\\displaystyle \\left[\\begin{matrix}l_{1} \\cos{\\left(q_{1} \\right)}\\\\l_{1} \\sin{\\left(q_{1} \\right)}\\end{matrix}\\right]$"
      ],
      "text/plain": [
       "G1 := ⎡l₁⋅cos(q₁)⎤\n",
       "⎢          ⎥\n",
       "⎣l₁⋅sin(q₁)⎦"
      ]
     },
     "metadata": {},
     "output_type": "display_data"
    },
    {
     "data": {
      "text/plain": [
       "---"
      ]
     },
     "metadata": {},
     "output_type": "display_data"
    },
    {
     "data": {
      "image/png": "[encoded data removed]",
      "text/latex": [
       "C2 := $\\displaystyle \\left[\\begin{matrix}c_{2} \\cos{\\left(p_{1} + q_{1} \\right)} + l_{1} \\cos{\\left(q_{1} \\right)}\\\\c_{2} \\sin{\\left(p_{1} + q_{1} \\right)} + l_{1} \\sin{\\left(q_{1} \\right)}\\end{matrix}\\right]$"
      ],
      "text/plain": [
       "C2 := ⎡c₂⋅cos(p₁ + q₁) + l₁⋅cos(q₁)⎤\n",
       "⎢                            ⎥\n",
       "⎣c₂⋅sin(p₁ + q₁) + l₁⋅sin(q₁)⎦"
      ]
     },
     "metadata": {},
     "output_type": "display_data"
    },
    {
     "data": {
      "text/plain": [
       "---"
      ]
     },
     "metadata": {},
     "output_type": "display_data"
    },
    {
     "data": {
      "image/png": "[encoded data removed]",
      "text/latex": [
       "G2 := $\\displaystyle \\left[\\begin{matrix}l_{1} \\cos{\\left(q_{1} \\right)} + l_{2} \\cos{\\left(p_{1} + q_{1} \\right)}\\\\l_{1} \\sin{\\left(q_{1} \\right)} + l_{2} \\sin{\\left(p_{1} + q_{1} \\right)}\\end{matrix}\\right]$"
      ],
      "text/plain": [
       "G2 := ⎡l₁⋅cos(q₁) + l₂⋅cos(p₁ + q₁)⎤\n",
       "⎢                            ⎥\n",
       "⎣l₁⋅sin(q₁) + l₂⋅sin(p₁ + q₁)⎦"
      ]
     },
     "metadata": {},
     "output_type": "display_data"
    },
    {
     "data": {
      "text/plain": [
       "---"
      ]
     },
     "metadata": {},
     "output_type": "display_data"
    },
    {
     "data": {
      "image/png": "[encoded data removed]",
      "text/latex": [
       "C3 := $\\displaystyle \\left[\\begin{matrix}c_{3} \\cos{\\left(p_{1} + q_{1} + s_{1} \\right)} + l_{1} \\cos{\\left(q_{1} \\right)} + l_{2} \\cos{\\left(p_{1} + q_{1} \\right)}\\\\c_{3} \\sin{\\left(p_{1} + q_{1} + s_{1} \\right)} + l_{1} \\sin{\\left(q_{1} \\right)} + l_{2} \\sin{\\left(p_{1} + q_{1} \\right)}\\end{matrix}\\right]$"
      ],
      "text/plain": [
       "C3 := ⎡c₃⋅cos(p₁ + q₁ + s₁) + l₁⋅cos(q₁) + l₂⋅cos(p₁ + q₁)⎤\n",
       "⎢                                                   ⎥\n",
       "⎣c₃⋅sin(p₁ + q₁ + s₁) + l₁⋅sin(q₁) + l₂⋅sin(p₁ + q₁)⎦"
      ]
     },
     "metadata": {},
     "output_type": "display_data"
    },
    {
     "data": {
      "text/plain": [
       "---"
      ]
     },
     "metadata": {},
     "output_type": "display_data"
    },
    {
     "data": {
      "image/png": "[encoded data removed]",
      "text/latex": [
       "G3 := $\\displaystyle \\left[\\begin{matrix}l_{1} \\cos{\\left(q_{1} \\right)} + l_{2} \\cos{\\left(p_{1} + q_{1} \\right)} + l_{3} \\cos{\\left(p_{1} + q_{1} + s_{1} \\right)}\\\\l_{1} \\sin{\\left(q_{1} \\right)} + l_{2} \\sin{\\left(p_{1} + q_{1} \\right)} + l_{3} \\sin{\\left(p_{1} + q_{1} + s_{1} \\right)}\\end{matrix}\\right]$"
      ],
      "text/plain": [
       "G3 := ⎡l₁⋅cos(q₁) + l₂⋅cos(p₁ + q₁) + l₃⋅cos(p₁ + q₁ + s₁)⎤\n",
       "⎢                                                   ⎥\n",
       "⎣l₁⋅sin(q₁) + l₂⋅sin(p₁ + q₁) + l₃⋅sin(p₁ + q₁ + s₁)⎦"
      ]
     },
     "metadata": {},
     "output_type": "display_data"
    },
    {
     "data": {
      "text/plain": [
       "---"
      ]
     },
     "metadata": {},
     "output_type": "display_data"
    },
    {
     "data": {
      "image/png": "[encoded data removed]",
      "text/latex": [
       "G6 := $\\displaystyle \\left[\\begin{matrix}d\\\\0\\end{matrix}\\right]$"
      ],
      "text/plain": [
       "G6 := ⎡d⎤\n",
       "⎢ ⎥\n",
       "⎣0⎦"
      ]
     },
     "metadata": {},
     "output_type": "display_data"
    },
    {
     "data": {
      "text/plain": [
       "---"
      ]
     },
     "metadata": {},
     "output_type": "display_data"
    },
    {
     "data": {
      "image/png": "[encoded data removed]",
      "text/latex": [
       "C6 := $\\displaystyle \\left[\\begin{matrix}c_{6} \\cos{\\left(q_{2} \\right)} + d\\\\c_{6} \\sin{\\left(q_{2} \\right)}\\end{matrix}\\right]$"
      ],
      "text/plain": [
       "C6 := ⎡c₆⋅cos(q₂) + d⎤\n",
       "⎢              ⎥\n",
       "⎣  c₆⋅sin(q₂)  ⎦"
      ]
     },
     "metadata": {},
     "output_type": "display_data"
    },
    {
     "data": {
      "text/plain": [
       "---"
      ]
     },
     "metadata": {},
     "output_type": "display_data"
    },
    {
     "data": {
      "image/png": "[encoded data removed]",
      "text/latex": [
       "G5 := $\\displaystyle \\left[\\begin{matrix}d + l_{6} \\cos{\\left(q_{2} \\right)}\\\\l_{6} \\sin{\\left(q_{2} \\right)}\\end{matrix}\\right]$"
      ],
      "text/plain": [
       "G5 := ⎡d + l₆⋅cos(q₂)⎤\n",
       "⎢              ⎥\n",
       "⎣  l₆⋅sin(q₂)  ⎦"
      ]
     },
     "metadata": {},
     "output_type": "display_data"
    },
    {
     "data": {
      "text/plain": [
       "---"
      ]
     },
     "metadata": {},
     "output_type": "display_data"
    },
    {
     "data": {
      "image/png": "[encoded data removed]",
      "text/latex": [
       "C5 := $\\displaystyle \\left[\\begin{matrix}c_{5} \\cos{\\left(p_{2} + q_{2} \\right)} + d + l_{6} \\cos{\\left(q_{2} \\right)}\\\\c_{5} \\sin{\\left(p_{2} + q_{2} \\right)} + l_{6} \\sin{\\left(q_{2} \\right)}\\end{matrix}\\right]$"
      ],
      "text/plain": [
       "C5 := ⎡c₅⋅cos(p₂ + q₂) + d + l₆⋅cos(q₂)⎤\n",
       "⎢                                ⎥\n",
       "⎣  c₅⋅sin(p₂ + q₂) + l₆⋅sin(q₂)  ⎦"
      ]
     },
     "metadata": {},
     "output_type": "display_data"
    },
    {
     "data": {
      "text/plain": [
       "---"
      ]
     },
     "metadata": {},
     "output_type": "display_data"
    },
    {
     "data": {
      "image/png": "[encoded data removed]",
      "text/latex": [
       "G4 := $\\displaystyle \\left[\\begin{matrix}d + l_{5} \\cos{\\left(p_{2} + q_{2} \\right)} + l_{6} \\cos{\\left(q_{2} \\right)}\\\\l_{5} \\sin{\\left(p_{2} + q_{2} \\right)} + l_{6} \\sin{\\left(q_{2} \\right)}\\end{matrix}\\right]$"
      ],
      "text/plain": [
       "G4 := ⎡d + l₅⋅cos(p₂ + q₂) + l₆⋅cos(q₂)⎤\n",
       "⎢                                ⎥\n",
       "⎣  l₅⋅sin(p₂ + q₂) + l₆⋅sin(q₂)  ⎦"
      ]
     },
     "metadata": {},
     "output_type": "display_data"
    },
    {
     "data": {
      "text/plain": [
       "---"
      ]
     },
     "metadata": {},
     "output_type": "display_data"
    },
    {
     "data": {
      "image/png": "[encoded data removed]",
      "text/latex": [
       "C4 := $\\displaystyle \\left[\\begin{matrix}c_{4} \\cos{\\left(p_{2} + q_{2} + s_{2} \\right)} + d + l_{5} \\cos{\\left(p_{2} + q_{2} \\right)} + l_{6} \\cos{\\left(q_{2} \\right)}\\\\c_{4} \\sin{\\left(p_{2} + q_{2} + s_{2} \\right)} + l_{5} \\sin{\\left(p_{2} + q_{2} \\right)} + l_{6} \\sin{\\left(q_{2} \\right)}\\end{matrix}\\right]$"
      ],
      "text/plain": [
       "C4 := ⎡c₄⋅cos(p₂ + q₂ + s₂) + d + l₅⋅cos(p₂ + q₂) + l₆⋅cos(q₂)⎤\n",
       "⎢                                                       ⎥\n",
       "⎣  c₄⋅sin(p₂ + q₂ + s₂) + l₅⋅sin(p₂ + q₂) + l₆⋅sin(q₂)  ⎦"
      ]
     },
     "metadata": {},
     "output_type": "display_data"
    },
    {
     "data": {
      "text/plain": [
       "---"
      ]
     },
     "metadata": {},
     "output_type": "display_data"
    },
    {
     "data": {
      "image/png": "[encoded data removed]",
      "text/latex": [
       "G3b := $\\displaystyle \\left[\\begin{matrix}d + l_{4} \\cos{\\left(p_{2} + q_{2} + s_{2} \\right)} + l_{5} \\cos{\\left(p_{2} + q_{2} \\right)} + l_{6} \\cos{\\left(q_{2} \\right)}\\\\l_{4} \\sin{\\left(p_{2} + q_{2} + s_{2} \\right)} + l_{5} \\sin{\\left(p_{2} + q_{2} \\right)} + l_{6} \\sin{\\left(q_{2} \\right)}\\end{matrix}\\right]$"
      ],
      "text/plain": [
       "G3b := ⎡d + l₄⋅cos(p₂ + q₂ + s₂) + l₅⋅cos(p₂ + q₂) + l₆⋅cos(q₂)⎤\n",
       "⎢                                                       ⎥\n",
       "⎣  l₄⋅sin(p₂ + q₂ + s₂) + l₅⋅sin(p₂ + q₂) + l₆⋅sin(q₂)  ⎦"
      ]
     },
     "metadata": {},
     "output_type": "display_data"
    },
    {
     "data": {
      "text/plain": [
       "---"
      ]
     },
     "metadata": {},
     "output_type": "display_data"
    }
   ],
   "source": [
    "# unit vectors\n",
    "\n",
    "ex = sp.Matrix([1, 0]) \n",
    "ey = sp.Matrix([0, 1]) \n",
    "\n",
    "# coordinates of centers of mass and joints\n",
    "# left\n",
    "G0 = 0*ex##:\n",
    "\n",
    "C1 = G0 + Rz(q1)*ex*c1 ##:\n",
    "\n",
    "G1 = G0 + Rz(q1)*ex*l1 ##:\n",
    "\n",
    "C2 = G1 + Rz(q1 + p1)*ex*c2 ##:\n",
    "\n",
    "G2 = G1 + Rz(q1 + p1)*ex*l2 ##:\n",
    "\n",
    "C3 = G2 + Rz(q1 + p1 + s1)*ex*c3 ##:\n",
    "\n",
    "G3 = G2 + Rz(q1 + p1 + s1)*ex*l3 ##:\n",
    "\n",
    "# right\n",
    "G6 = d*ex ##:\n",
    "\n",
    "C6 = G6 + Rz(q2)*ex*c6 ##:\n",
    "\n",
    "G5 = G6 + Rz(q2)*ex*l6 ##:\n",
    "\n",
    "C5 = G5 + Rz(q2 + p2)*ex*c5 ##:\n",
    "\n",
    "G4 = G5 + Rz(q2 + p2)*ex*l5 ##:\n",
    "\n",
    "C4 = G4 + Rz(q2 + p2 + s2)*ex*c4 ##:\n",
    "\n",
    "G3b = G4 + Rz(q2 + p2 + s2)*ex*l4 ##:\n",
    "\n",
    "# time derivatives of centers of mass\n",
    "Sd1, Sd2, Sd3, Sd4, Sd5, Sd6 = st.col_split(st.time_deriv(st.col_stack(C1, C2, C3, C4, C5, C6), ttheta))"
   ]
  },
  {
   "cell_type": "code",
   "execution_count": 5,
   "metadata": {},
   "outputs": [],
   "source": [
    "# Kinetic Energy (note that angles are relative)\n",
    "\n",
    "T_rot = (J1*qdot1**2)/2 + (J2*(qdot1 + pdot1)**2)/2 + (J3*(qdot1 + pdot1 + sdot1)**2)/2 + \\\n",
    "        (J4*(qdot2 + pdot2 + sdot2)**2)/2 + (J5*(qdot2 + pdot2)**2)/2 + (J6*qdot2**2)/2\n",
    "T_trans = ( m1*Sd1.T*Sd1  +  m2*Sd2.T*Sd2 + m3*Sd3.T*Sd3 + m4*Sd4.T*Sd4  +  m5*Sd5.T*Sd5 + m6*Sd6.T*Sd6)/2 \n",
    "\n",
    "T = T_rot + T_trans[0] \n",
    "\n",
    "# Potential Energy\n",
    "V = m1*g*C1[1] + m2*g*C2[1] + m3*g*C3[1]+ m4*g*C4[1] + m5*g*C5[1] + m6*g*C6[1]"
   ]
  },
  {
   "cell_type": "code",
   "execution_count": 6,
   "metadata": {},
   "outputs": [
    {
     "data": {
      "text/plain": [
       "parameter_values := [('c1', 0.2),\n",
       " ('c2', 0.21),\n",
       " ('c3', 0.275),\n",
       " ('c4', 0.275),\n",
       " ('c5', 0.21),\n",
       " ('c6', 0.2),\n",
       " ('m1', 6.0),\n",
       " ('m2', 12.0),\n",
       " ('m3', 39.6),\n",
       " ('m4', 39.6),\n",
       " ('m5', 12.0),\n",
       " ('m6', 6.0),\n",
       " ('J1', 0.08000000000000002),\n",
       " ('J2', 0.17639999999999997),\n",
       " ('J3', 0.9982500000000002),\n",
       " ('J4', 0.9982500000000002),\n",
       " ('J5', 0.17639999999999997),\n",
       " ('J6', 0.08000000000000002),\n",
       " ('l1', 0.4),\n",
       " ('l2', 0.42),\n",
       " ('l3', 0.55),\n",
       " ('l4', 0.55),\n",
       " ('l5', 0.42),\n",
       " ('l6', 0.4),\n",
       " ('d', 0.26),\n",
       " ('g', 9.81)]"
      ]
     },
     "metadata": {},
     "output_type": "display_data"
    },
    {
     "data": {
      "text/plain": [
       "---"
      ]
     },
     "metadata": {},
     "output_type": "display_data"
    }
   ],
   "source": [
    "parameter_values = list(dict(c1=0.4/2, c2=0.42/2, c3=0.55/2, c4=0.55/2, c5=0.42/2, c6=0.4/2,\n",
    "                             m1=6.0, m2=12.0, m3=39.6, m4=39.6, m5=12.0, m6=6.0,\n",
    "                             J1=(6*0.4**2)/12, J2=(12*0.42**2)/12, J3=(39.6*0.55**2)/12, \n",
    "                             J4=(39.6*0.55**2)/12, J5=(12*0.42**2)/12, J6=(6*0.4**2)/12,\n",
    "                             l1=0.4, l2=0.42, l3=0.55, l4=0.55, l5=0.42, l6=0.4, d=0.26, g=9.81).items()) ##:"
   ]
  },
  {
   "cell_type": "code",
   "execution_count": 7,
   "metadata": {},
   "outputs": [
    {
     "ename": "FileNotFoundError",
     "evalue": "[Errno 2] No such file or directory: '7L-dae-2020-07-15.pcl'",
     "output_type": "error",
     "traceback": [
      "\u001b[1;31m---------------------------------------------------------------------------\u001b[0m",
      "\u001b[1;31mFileNotFoundError\u001b[0m                         Traceback (most recent call last)",
      "\u001b[1;32m<ipython-input-7-48dc3ea8492f>\u001b[0m in \u001b[0;36m<module>\u001b[1;34m\u001b[0m\n\u001b[0;32m     13\u001b[0m         \u001b[0mpickle\u001b[0m\u001b[1;33m.\u001b[0m\u001b[0mdump\u001b[0m\u001b[1;33m(\u001b[0m\u001b[0mmod\u001b[0m\u001b[1;33m,\u001b[0m \u001b[0mpfile\u001b[0m\u001b[1;33m)\u001b[0m\u001b[1;33m\u001b[0m\u001b[1;33m\u001b[0m\u001b[0m\n\u001b[0;32m     14\u001b[0m \u001b[1;32melse\u001b[0m\u001b[1;33m:\u001b[0m\u001b[1;33m\u001b[0m\u001b[1;33m\u001b[0m\u001b[0m\n\u001b[1;32m---> 15\u001b[1;33m     \u001b[1;32mwith\u001b[0m \u001b[0mopen\u001b[0m\u001b[1;33m(\u001b[0m\u001b[0mfname\u001b[0m\u001b[1;33m,\u001b[0m \u001b[1;34m\"rb\"\u001b[0m\u001b[1;33m)\u001b[0m \u001b[1;32mas\u001b[0m \u001b[0mpfile\u001b[0m\u001b[1;33m:\u001b[0m\u001b[1;33m\u001b[0m\u001b[1;33m\u001b[0m\u001b[0m\n\u001b[0m\u001b[0;32m     16\u001b[0m         \u001b[0mmod\u001b[0m \u001b[1;33m=\u001b[0m \u001b[0mpickle\u001b[0m\u001b[1;33m.\u001b[0m\u001b[0mload\u001b[0m\u001b[1;33m(\u001b[0m\u001b[0mpfile\u001b[0m\u001b[1;33m)\u001b[0m\u001b[1;33m\u001b[0m\u001b[1;33m\u001b[0m\u001b[0m\n",
      "\u001b[1;31mFileNotFoundError\u001b[0m: [Errno 2] No such file or directory: '7L-dae-2020-07-15.pcl'"
     ]
    }
   ],
   "source": [
    "external_forces = [tau1, tau2, tau3, tau4, tau5, tau6]\n",
    "\n",
    "import pickle\n",
    "# %time mod = mt.generate_symbolic_model(T, V, ttheta, external_forces)\n",
    "fname = \"7L-dae-2020-07-15.pcl\"\n",
    "if 0:\n",
    "    %time mod = mt.generate_symbolic_model(T, V, ttheta, external_forces, constraints=[G3 - G3b])\n",
    "    %time mod.calc_state_eq(simplify=False)\n",
    "\n",
    "    %time mod.f_sympy = mod.f.subs(parameter_values) \n",
    "    %time mod.G_sympy = mod.g.subs(parameter_values) \n",
    "    with open(fname, \"wb\") as pfile:\n",
    "        pickle.dump(mod, pfile)\n",
    "else:\n",
    "    with open(fname, \"rb\") as pfile:\n",
    "        mod = pickle.load(pfile)"
   ]
  },
  {
   "cell_type": "code",
   "execution_count": null,
   "metadata": {},
   "outputs": [],
   "source": [
    "assert mod.constraints is not None"
   ]
  },
  {
   "cell_type": "code",
   "execution_count": null,
   "metadata": {},
   "outputs": [],
   "source": [
    "mod.G_sympy.shape"
   ]
  },
  {
   "cell_type": "code",
   "execution_count": null,
   "metadata": {},
   "outputs": [],
   "source": [
    "xxdd = st.row_stack(mod.xx, tthetadd) "
   ]
  },
  {
   "cell_type": "markdown",
   "metadata": {},
   "source": [
    "\n",
    "\n",
    "### DAE System"
   ]
  },
  {
   "cell_type": "markdown",
   "metadata": {},
   "source": [
    "#### initial state"
   ]
  },
  {
   "cell_type": "code",
   "execution_count": null,
   "metadata": {},
   "outputs": [],
   "source": [
    "r_values = list(dict(q2=npy.pi*2/3, p2=-11*npy.pi/18, s2=11*npy.pi/3).items())\n",
    "\n",
    "F = mod.constraints.subs(parameter_values).subs(r_values)##:\n",
    "\n",
    "F_func = st.expr_to_func([q1,p1,s1], F.T*F)\n",
    "\n",
    "def cal_initial(q1):\n",
    "    def initial_state(R1):\n",
    "        p1, s1 = R1\n",
    "        return F_func(q1, p1, s1)\n",
    "    return initial_state"
   ]
  },
  {
   "cell_type": "code",
   "execution_count": null,
   "metadata": {},
   "outputs": [],
   "source": [
    "q1_initial = 0.73\n",
    "#test overloap of knee\n",
    "k = (d + l6*cos(npy.pi*2/3)- l1*cos(q1_initial)).subs(parameter_values)##:"
   ]
  },
  {
   "cell_type": "code",
   "execution_count": null,
   "metadata": {},
   "outputs": [],
   "source": [
    "target_fnc = cal_initial(q1_initial)\n",
    "guess = [3,0]\n",
    "fminsol = scipy.optimize.fmin(target_fnc, guess, maxfun=5000, ftol=1e-7, xtol=1e-7) \n",
    "fminsol"
   ]
  },
  {
   "cell_type": "code",
   "execution_count": null,
   "metadata": {},
   "outputs": [],
   "source": [
    "dae = mod.calc_dae_eq(parameter_values)\n",
    "\n",
    "dae.generate_eqns_funcs()"
   ]
  },
  {
   "cell_type": "code",
   "execution_count": null,
   "metadata": {
    "scrolled": true
   },
   "outputs": [],
   "source": [
    "# initial condition\n",
    "\n",
    "# yy0, yyd0 = dae.calc_consistent_init_vals(q1= q1_initial, p1=fminsol[0] , q2=npy.pi*2/3 , p2=npy.pi/18) ##:\n",
    "\n",
    "yy0, yyd0 = dae.calc_consistent_init_vals(q1= 1.0, p1= 1.8, q2= 2.1, p2= -1.85) ##:\n",
    "\n",
    "\n",
    "t0 = 0\n",
    "\n",
    "# check if all values are almost zero (-> initial values fulfill the model)\n",
    "#assert npy.allclose(dae.model_func(t0, yy0, yyd0), 0)"
   ]
  },
  {
   "cell_type": "code",
   "execution_count": null,
   "metadata": {},
   "outputs": [],
   "source": [
    "# final condition\n",
    "\n",
    "yye, yyde = dae.calc_consistent_init_vals(q1= npy.pi/2, p1= 0, q2= npy.pi/2, p2= 0) ##:\n",
    "\n",
    "t0 = 0\n",
    "\n",
    "# check if all values are almost zero (-> initial values fulfill the model)\n",
    "#assert npy.allclose(dae.model_func(t0, yy0, yyd0), 0)"
   ]
  },
  {
   "cell_type": "code",
   "execution_count": null,
   "metadata": {},
   "outputs": [],
   "source": [
    "import symbtools.visualisation as vt\n",
    "import importlib as il\n",
    "il.reload(vt)\n",
    "\n",
    "\n",
    "torso1_unit = Rz(q1 + p1 + s1)*ex\n",
    "torso2_unit = Rz(q2 + p2 + s2)*ex\n",
    "\n",
    "neck_length = 0.12\n",
    "head_radius = 0.1\n",
    "\n",
    "body_width = 15\n",
    "neck_width = 15\n",
    "\n",
    "H1 = G3 + neck_length * torso1_unit\n",
    "H1r = G3 + (neck_length - head_radius) * torso1_unit\n",
    "H2 = G3b + neck_length * torso2_unit\n",
    "H2r = G3b + (neck_length - head_radius) * torso2_unit\n",
    "\n",
    "vis = vt.Visualiser(ttheta, xlim=(-1.5, 1.5), ylim=(-.2, 2))\n",
    "\n",
    "# get default colors and set them explicitly\n",
    "# this prevents color changes in onion skin plot\n",
    "default_colors = plt.get_cmap(\"tab10\")\n",
    "guy1_color = default_colors(0)\n",
    "guy1_joint_color = \"darkblue\"\n",
    "guy2_color = default_colors(1)\n",
    "guy2_joint_color = \"red\"\n",
    "guy1_head_fc = guy1_color  # facecolor\n",
    "guy1_head_ec = guy1_head_fc  # edgecolor\n",
    "guy2_head_fc = guy2_color  # facecolor\n",
    "guy2_head_ec = guy2_head_fc  # edgecolor\n",
    "\n",
    "# guy 1 body\n",
    "vis.add_linkage(st.col_stack(G0, G1, G2, G3).subs(parameter_values),\n",
    "                color=guy1_color,\n",
    "                solid_capstyle='round',\n",
    "                lw=body_width,\n",
    "                ms=body_width,\n",
    "                mfc=guy1_joint_color)\n",
    "# guy 1 neck\n",
    "#vis.add_linkage(st.col_stack(G3, H1r).subs(parameter_values), color=head_color, solid_capstyle='round', lw=neck_width)\n",
    "# guy 1 head\n",
    "vis.add_disk(st.col_stack(H1, H1r).subs(parameter_values), fc=guy1_head_fc, ec=guy1_head_ec, plot_radius=False, fill=True)\n",
    "\n",
    "# guy 2 body\n",
    "vis.add_linkage(st.col_stack(G6, G5, G4, G3b).subs(parameter_values),\n",
    "                color=guy2_color,\n",
    "                solid_capstyle='round',\n",
    "                lw=body_width,\n",
    "                ms=body_width,\n",
    "                mfc=guy2_joint_color)\n",
    "# guy 2 neck\n",
    "#vis.add_linkage(st.col_stack(G3b, H2r).subs(parameter_values), color=head_color, solid_capstyle='round', lw=neck_width)\n",
    "# guy 2 head\n",
    "vis.add_disk(st.col_stack(H2, H2r).subs(parameter_values), fc=guy2_head_fc, ec=guy2_head_ec, plot_radius=False, fill=True)\n",
    "\n",
    "cnstrs = mod.constraints.subs(parameter_values) ##:\n",
    "\n",
    "mod.tt ##:\n",
    "\n"
   ]
  },
  {
   "cell_type": "code",
   "execution_count": null,
   "metadata": {},
   "outputs": [],
   "source": [
    "yy0"
   ]
  },
  {
   "cell_type": "code",
   "execution_count": null,
   "metadata": {},
   "outputs": [],
   "source": [
    "# use inital values for visualization\n",
    "\n",
    "kwargs = dict([(var.name, (-4, 4, .1, yy0[i])) for i, var in enumerate(mod.tt)]) ##:"
   ]
  },
  {
   "cell_type": "code",
   "execution_count": null,
   "metadata": {},
   "outputs": [],
   "source": [
    "# uncomment for interactive kinematic motion\n",
    "\n",
    "\n",
    "# vis.interact(free_vars=(q1, p1, s1, q2), constraints=cnstrs, **kwargs)\n",
    "\n",
    "\n",
    "\n",
    "\n",
    "# meaningful initial values: [1.0, 1.8, -1.9, 2.1, -1.851, 1.91]\n",
    "\n",
    "ttheta_start = npy.r_[1.0, 1.8, -1.8995718078681274, 2.1, -1.85, 1.90406705183088]\n",
    "ttheta_start = npy.r_[0.9, 1.5, -1.9, 2.1, -2.175799453493845, 1.7471971159642905]\n"
   ]
  },
  {
   "cell_type": "code",
   "execution_count": null,
   "metadata": {},
   "outputs": [],
   "source": [
    "eq_stat = mod.eqns.subz0(tthetadd).subz0(tthetad).subs(parameter_values) ##:i"
   ]
  },
  {
   "cell_type": "code",
   "execution_count": null,
   "metadata": {},
   "outputs": [],
   "source": [
    "eq_stat.jacobian(mod.uu)"
   ]
  },
  {
   "cell_type": "code",
   "execution_count": null,
   "metadata": {},
   "outputs": [],
   "source": [
    "eq_stat.subz(ttheta, ttheta_start)"
   ]
  },
  {
   "cell_type": "markdown",
   "metadata": {},
   "source": [
    "\n",
    "These equations are of the form:\n",
    "\n",
    "$K_1(\\theta) \\cdot \\mu + K_0(\\theta) = 0$\n",
    "\n",
    "\n",
    "Matrix K1 is not square. There are more free parameters in $\\mu$ (8) than equality constraints (6). This means there are infinitely many solutions. To get a unique solution we search for the vector $\\mu$ that minimizes the cost function $\\mu^T \\bar Q \\mu$. This can be reached by solving a system of linear equations (<https://en.wikipedia.org/wiki/Quadratic_programming#Equality_constraints>): "
   ]
  },
  {
   "cell_type": "code",
   "execution_count": null,
   "metadata": {},
   "outputs": [],
   "source": [
    "# vector for tau and lambda together\n",
    "\n",
    "ttau_symbols = sp.Matrix(mod.uu) ##:T\n",
    "\n",
    "mmu = st.row_stack(ttau_symbols, mod.llmd) ##:T\n",
    "\n",
    "# linear system of equations (and convert to function w.r.t. ttheta)\n",
    "\n",
    "K0_expr = eq_stat.subz0(mmu) ##:i\n",
    "K1_expr = eq_stat.jacobian(mmu) ##:i\n",
    "\n",
    "K0_func = st.expr_to_func(ttheta, K0_expr)\n",
    "K1_func = st.expr_to_func(ttheta, K1_expr, keep_shape=True)"
   ]
  },
  {
   "cell_type": "markdown",
   "metadata": {},
   "source": [
    "\n",
    "\n",
    "\\begin{align*}\n",
    "%\\label{eq_}\n",
    "&{\\text{Minimize}}\\quad {\\tfrac {1}{2}}\\mathbf {\\mu} ^{\\mathrm {T} }\\bar R\\mathbf {\\mu} +\\mathbf {c} ^{\\mathrm {T} }\\mathbf {\\mu} \\\\\n",
    "&{\\text{subject to}}\\quad K_1\\mathbf {\\mu} =-\\mathbf {K}_0 \n",
    "\\end{align*}\n",
    "\n",
    "Solution is given by the solution of this system:\n",
    "$$\n",
    "{\\begin{bmatrix}\\bar R&K_1^{T}\\\\K_1&0\\end{bmatrix}}{\\begin{bmatrix}\\mathbf {\\mu} \\\\\n",
    "\\bar \\lambda \\end{bmatrix}}={\\begin{bmatrix}-\\mathbf {c} \\\\\\mathbf {-K}_0 \\end{bmatrix}}\n",
    "$$\n"
   ]
  },
  {
   "cell_type": "code",
   "execution_count": null,
   "metadata": {},
   "outputs": [],
   "source": [
    "\n",
    "def get_mu_stat_for_theta(ttheta_arg, rho=10):\n",
    "    # weighting matrix for mu\n",
    "    \n",
    "\n",
    "    K0 = K0_func(*ttheta_arg)\n",
    "    K1 = K1_func(*ttheta_arg)\n",
    "    \n",
    "    \n",
    "    return solve_qlp(K0, K1, rho)\n",
    "\n",
    "def solve_qlp(K0, K1, rho):\n",
    "    R_mu = npy.diag([1, 1, 1,  rho, rho, rho, .1, .1])\n",
    "    n1, n2 = K1.shape\n",
    "    \n",
    "    \n",
    "    # construct the equation system for least squares with linear constraints\n",
    "    M1 = npy.column_stack((R_mu, K1.T))\n",
    "    M2 = npy.column_stack((K1, npy.zeros((n1, n1)) ))\n",
    "    M_coeff = npy.row_stack((M1, M2))\n",
    "\n",
    "    M_rhs = npy.concatenate((npy.zeros(n2), -K0))\n",
    "\n",
    "    mmu_stat = npy.linalg.solve(M_coeff, M_rhs)[:n2]\n",
    "    return mmu_stat"
   ]
  },
  {
   "cell_type": "code",
   "execution_count": null,
   "metadata": {},
   "outputs": [],
   "source": [
    "mmu_start = get_mu_stat_for_theta(ttheta_start) ##:\n",
    "\n",
    "# check whether \"equations of motion\" are met for equilibrium\n",
    "\n",
    "assert npy.allclose(st.to_np(eq_stat.subz(ttheta, ttheta_start).subz(mmu, mmu_start)), 0 )"
   ]
  },
  {
   "cell_type": "code",
   "execution_count": null,
   "metadata": {},
   "outputs": [],
   "source": [
    "connection_point_func = st.expr_to_func(ttheta, G3.subs(parameter_values))"
   ]
  },
  {
   "cell_type": "code",
   "execution_count": null,
   "metadata": {},
   "outputs": [],
   "source": [
    "# solve stationary optimization problem using Casadi\n",
    "import casadi as cs\n",
    "\n",
    "from casadi import SX, inf\n",
    "import symbtools.mpctools as mpc\n",
    "\n"
   ]
  },
  {
   "cell_type": "code",
   "execution_count": null,
   "metadata": {},
   "outputs": [],
   "source": [
    "cs_ttau = mpc.casidify(mod.uu, mod.uu)[0]\n",
    "cs_llmd = mpc.casidify(mod.llmd, mod.llmd)[0]\n",
    "\n",
    "controls_sp = mmu\n",
    "controls_cs = cs.vertcat(cs_ttau, cs_llmd) ##:\n",
    "coords_cs, _ = mpc.casidify(ttheta, ttheta)"
   ]
  },
  {
   "cell_type": "code",
   "execution_count": null,
   "metadata": {},
   "outputs": [],
   "source": [
    "\n",
    "# parameters: 0: value of y_connection, 1: x_connection_last,\n",
    "# 2: y_connection_last, 3: delta_r_max, 4: rho (penalty factor for 2nd persons torques),\n",
    "# 5:11: ttheta_old[6], 11:17: ttheta:old2\n",
    "# \n",
    "P = SX.sym('P', 5+12)\n",
    "rho = P[10]\n",
    "\n",
    "# weightning of inputs\n",
    "R = mpc.SX_diag_matrix((1, 1, 1,   rho, rho, rho,  0.1, 0.1))\n",
    "\n",
    "\n",
    "#  Construction of Constraints\n",
    "\n",
    "g1 = []  # constraints vector (system dynamics)\n",
    "g2 = []  # inequality-constraints \n",
    "\n",
    "\n",
    "closed_chain_constraint, _ = mpc.casidify(mod.dae.constraints, ttheta, cs_vars=coords_cs)\n",
    "connection_position, _ = mpc.casidify(list(G3.subs(parameter_values)), ttheta, cs_vars=coords_cs) ##:i\n",
    "connection_y_value, _ = mpc.casidify([G3[1].subs(parameter_values)], ttheta, cs_vars=coords_cs)##:i\n",
    "\n",
    "stationary_eqns, _, _ = mpc.casidify(eq_stat, ttheta, controls_sp, cs_vars=(coords_cs, controls_cs)) ##:i\n",
    "\n",
    "\n",
    "g1.extend(mpc.unpack(stationary_eqns))\n",
    "g1.extend(mpc.unpack(closed_chain_constraint))\n",
    "\n",
    "# force the connecting joint to a given hight (which will be provided later)\n",
    "g1.append(connection_y_value - P[0])\n",
    "\n",
    "ng1 = len(g1) ##:\n",
    "\n",
    "\n",
    "\n",
    "\n",
    "# squared distance from the last reference should be smaller than P[3] (delta_r_max):\n",
    "# this will be a restriction between -inf and 0\n",
    "r = connection_position - P[1:3]\n",
    "g2.append(r.T@r-P[3])\n",
    "\n",
    "# change of angles should be smaller than a given bound (P[5:11] are the old coords)\n",
    "coords_old = P[5:11]\n",
    "coords_old2 = P[11:17]\n",
    "pseudo_vel = (coords_cs-coords_old) / 1\n",
    "pseudo_acc = (coords_cs-2*coords_old + coords_old2) / 1\n",
    "\n",
    "g2.extend(mpc.unpack(pseudo_vel))\n",
    "g2.extend(mpc.unpack(pseudo_acc))\n",
    "\n",
    "g_all = mpc.seq_to_SX_matrix(g1 + g2) ##:S\n",
    "\n",
    "\n",
    "### Construction of objective Function \n",
    "\n",
    "obj = controls_cs.T@R@controls_cs + 1e5 *pseudo_acc.T@pseudo_acc + 0.3e6*pseudo_vel.T@pseudo_vel\n",
    "\n",
    "OPT_variables  = cs.vertcat(coords_cs, controls_cs) ##:S\n",
    "\n",
    "# for debugging\n",
    "g_all_cs_func = cs.Function(\"g_all_cs_func\", (OPT_variables, P), (g_all,)) ##:"
   ]
  },
  {
   "cell_type": "code",
   "execution_count": null,
   "metadata": {},
   "outputs": [],
   "source": [
    "nlp_prob = dict(f=obj, x=OPT_variables, g=g_all, p=P)\n",
    "\n",
    "ipopt_settings = dict(max_iter=5000, print_level=0,\n",
    "                      acceptable_tol=1e-8, acceptable_obj_change_tol = 1e-6)\n",
    "opts = dict(print_time=False, ipopt=ipopt_settings)\n"
   ]
  },
  {
   "cell_type": "code",
   "execution_count": null,
   "metadata": {},
   "outputs": [],
   "source": [
    "xx_guess = npy.r_[ttheta_start, mmu_start]\n",
    "\n",
    "# note: g1 contains the equality constraints (system dynamics) (lower bound = upper bound)\n",
    "\n",
    "delta_phi = .05\n",
    "d_delta_phi = .02\n",
    "eps = 1e-9\n",
    "lbg = npy.r_[ [-eps]*ng1 + [-inf] + [-delta_phi]*n,  [-d_delta_phi]*n ]\n",
    "ubg = npy.r_[ [eps]*ng1 + [0] + [delta_phi]*n,  [d_delta_phi]*n ]\n",
    "\n",
    "\n",
    "# ubx = [inf]*OPT_variables.shape[0]##:\n",
    "\n",
    "# lower and upper bounds for decision variables:\n",
    "#lbx = [-inf, -inf, -inf, -inf, -inf, -inf, -inf, -inf]*N1 + [tau1_min, tau4_min, -inf, -inf]*N\n",
    "#ubx = [inf, inf, inf, inf, inf, inf, inf, inf]*N1 + [tau1_max, tau4_max, inf, inf]*N\n",
    "\n",
    "rho = 3\n",
    "P_init = npy.r_[connection_point_func(*ttheta_start)[1],\n",
    "                connection_point_func(*ttheta_start), 0.01, rho, ttheta_start, ttheta_start]\n",
    "\n",
    "args = dict(lbx=-inf, ubx=inf, lbg=lbg, ubg=ubg,  # unconstrained optimization\n",
    "            p=P_init,  # initial and final state\n",
    "            x0=xx_guess   # initial guess\n",
    "           )"
   ]
  },
  {
   "cell_type": "code",
   "execution_count": null,
   "metadata": {},
   "outputs": [],
   "source": [
    "%time solver = cs.nlpsol(\"solver\", \"ipopt\", nlp_prob, opts)"
   ]
  },
  {
   "cell_type": "code",
   "execution_count": null,
   "metadata": {},
   "outputs": [],
   "source": [
    "%time sol = solver(**args)\n",
    "\n",
    "stats = solver.stats()\n",
    "stats['success']\n",
    "stats['return_status']"
   ]
  },
  {
   "cell_type": "code",
   "execution_count": null,
   "metadata": {},
   "outputs": [],
   "source": [
    "global_vars = ipydex.Container(old_sol=xx_guess, old_sol2=xx_guess)\n",
    "\n",
    "def get_optimal_equilibrium(y_value, rho=3):\n",
    "    \n",
    "    ttheta_old = global_vars.old_sol[:n]\n",
    "    ttheta_old2 = global_vars.old_sol2[:n]\n",
    "    opt_prob_params = npy.r_[y_value, connection_point_func(*ttheta_old),\n",
    "                             0.01, rho, ttheta_old, ttheta_old2]\n",
    "    \n",
    "    args.update(dict(p=opt_prob_params, x0=global_vars.old_sol))\n",
    "    sol = solver(**args)\n",
    "    \n",
    "    stats = solver.stats()\n",
    "    if not stats['success']:\n",
    "        raise ValueError(stats[\"return_status\"])\n",
    "    \n",
    "    XX = sol[\"x\"].full().squeeze()\n",
    "    \n",
    "    # save the last two results\n",
    "    global_vars.old_sol2 = global_vars.old_sol\n",
    "    global_vars.old_sol = XX\n",
    "\n",
    "    return XX"
   ]
  },
  {
   "cell_type": "code",
   "execution_count": null,
   "metadata": {},
   "outputs": [],
   "source": [
    "def get_qs_trajectory(rho):\n",
    "    # measure the time of the whole cell\n",
    "    y_start = connection_point_func(*ttheta_start)[1]\n",
    "    N = 100\n",
    "    \n",
    "    #y_end = 1.32\n",
    "    y_end = 1.36\n",
    "    y_func = st.expr_to_func(t, st.condition_poly(t, (0, y_start, 0, 0), (1, y_end, 0, 0)))\n",
    "    \n",
    "    # yy_connection = npy.linspace(y_start, 1.32, N)\n",
    "    \n",
    "    # \n",
    "    pseudo_time = npy.linspace(0, 1, N)\n",
    "    yy_connection = y_func(pseudo_time)\n",
    "    \n",
    "    plt.plot(pseudo_time, yy_connection)\n",
    "    \n",
    "\n",
    "    # reset the initial guess\n",
    "    global_vars.old_sol = xx_guess\n",
    "    global_vars.old_sol2 = xx_guess\n",
    "    XX_list = []\n",
    "    for i, y_value in enumerate(yy_connection):\n",
    "        #print(i, y_value)\n",
    "        XX_list.append(get_optimal_equilibrium(y_value, rho=rho))\n",
    "\n",
    "    XX = npy.array(XX_list)\n",
    "    return XX\n",
    "\n"
   ]
  },
  {
   "cell_type": "code",
   "execution_count": null,
   "metadata": {},
   "outputs": [],
   "source": [
    "# for blue: https://paletton.com/#uid=53w0k0ksfALhxKKmVEJ-1u5AGnd\n",
    "# for orange: https://paletton.com/#uid=50w0k0kufw0iJEJnYz3x4pFByke\n",
    "\n",
    "color_cycle = cycler(color=['#15B494', '#1F77B4', '#294BBB', '#FFA30E', '#ff7f0e', '#FF480E'])\n",
    "\n",
    "def plot_results(XX):\n",
    "    ttheta_num = XX[:, :n]\n",
    "    ttau_num = XX[:, n:-2]\n",
    "    N = XX.shape[0]\n",
    "    # introduce some fake time (because we calculated quasistationary)\n",
    "    tt = npy.linspace(0, 2, N)\n",
    "\n",
    "    fig, (ax1, ax2) = plt.subplots(1, 2, figsize=(16, 6))\n",
    "    \n",
    "    \n",
    "\n",
    "\n",
    "\n",
    "    ax1.set_prop_cycle(color_cycle)\n",
    "    ax2.set_prop_cycle(color_cycle)\n",
    "\n",
    "    ax1.plot(tt, ttheta_num)\n",
    "\n",
    "    ax2.plot(tt, ttau_num[:, :3], label=\"active person\")\n",
    "    ax2.plot(tt, ttau_num[:, 3:], \"--\", label=\"passive person\")\n",
    "    ax2.legend()\n",
    "    \n",
    "    return tt"
   ]
  },
  {
   "cell_type": "code",
   "execution_count": null,
   "metadata": {},
   "outputs": [],
   "source": [
    "%%time\n",
    "\n",
    "# XX = get_qs_trajectory(rho=3)\n",
    "# tt = plot_results(XX)\n",
    "\n",
    "rho = 30\n",
    "XX = get_qs_trajectory(rho=rho)\n",
    "tt = plot_results(XX)"
   ]
  },
  {
   "cell_type": "code",
   "execution_count": null,
   "metadata": {},
   "outputs": [],
   "source": [
    "# for debugging: look at the changerates for ttheta\n",
    "\n",
    "ttheta_num = XX[:, :n]\n",
    "\n",
    "plt.figure(figsize=(14, 5))\n",
    "\n",
    "plt.plot(npy.diff(ttheta_num, axis=0))\n",
    "\n",
    "# npy.diff?"
   ]
  },
  {
   "cell_type": "code",
   "execution_count": null,
   "metadata": {},
   "outputs": [],
   "source": [
    "# for debugging: look at the changerates for ttheta\n",
    "\n",
    "ttheta_num = XX[:, :n]\n",
    "\n",
    "plt.figure(figsize=(14, 5))\n",
    "\n",
    "plt.plot(npy.diff(ttheta_num, axis=0, n=2) )\n",
    "\n",
    "# npy.diff?"
   ]
  },
  {
   "cell_type": "code",
   "execution_count": null,
   "metadata": {},
   "outputs": [],
   "source": [
    "fname = 'z_qs_7L-overactuated_rho3.npy'\n",
    "npy.save(fname, XX)\n",
    "N = XX.shape[0]"
   ]
  },
  {
   "cell_type": "code",
   "execution_count": null,
   "metadata": {},
   "outputs": [],
   "source": [
    "simanim = vt.SimAnimation(ttheta, tt, XX[:, :n])\n",
    "simanim.add_visualiser(vis)\n",
    "\n",
    "\n",
    "simanim.display_frame(0)\n",
    "\n",
    "# uncomment to display animation\n",
    "# simanim.display() # thins increases the notebooksize and should be avoided for repo-checkins"
   ]
  },
  {
   "cell_type": "markdown",
   "metadata": {},
   "source": [
    "## Time scaling of the quasistationary solution"
   ]
  },
  {
   "cell_type": "code",
   "execution_count": null,
   "metadata": {},
   "outputs": [],
   "source": [
    "\n",
    "def smooth_time_scaling(Tend, N, phase_fraction=.5):\n",
    "    \"\"\"\n",
    "    :param Tend:\n",
    "    :param N:\n",
    "    :param phase_fraction:   fraction of Tend for smooth initial and end phase\n",
    "    \"\"\"\n",
    "    \n",
    "    T0 = 0\n",
    "    T1 = Tend*phase_fraction\n",
    "\n",
    "    y0 = 0\n",
    "    y1 = 1\n",
    "\n",
    "\n",
    "    # for initial phase\n",
    "    poly1 = st.condition_poly(t, (T0, y0, 0, 0), (T1, y1, 0, 0))\n",
    "    \n",
    "    # for end phase\n",
    "    poly2 = poly1.subs(t, Tend-t)\n",
    "    \n",
    "\n",
    "    # there should be a phase in the middle with constant slope \n",
    "    deriv_transition = st.piece_wise((y0, t < T0), (poly1, t<T1), (y1, t<Tend-T1),\n",
    "                                    (poly2, t<Tend), (y0, True))\n",
    "    \n",
    "    scaling = sp.integrate(deriv_transition, (t, T0, Tend))\n",
    "    \n",
    "    time_transition = sp.integrate(deriv_transition*N/scaling, t)\n",
    "    \n",
    "    # deriv_transition_func = st.expr_to_func(t, full_transition)\n",
    "    time_transition_func = st.expr_to_func(t, time_transition)\n",
    "    deriv_func = st.expr_to_func(t, deriv_transition*N/scaling)\n",
    "    deriv_func2 = st.expr_to_func(t, deriv_transition.diff(t)*N/scaling)\n",
    "    \n",
    "    C = ipydex.Container(fetch_locals=True)\n",
    "    \n",
    "    return C"
   ]
  },
  {
   "cell_type": "code",
   "execution_count": null,
   "metadata": {},
   "outputs": [],
   "source": [
    "Tend = 4\n",
    "res = smooth_time_scaling(Tend, N)"
   ]
  },
  {
   "cell_type": "code",
   "execution_count": null,
   "metadata": {},
   "outputs": [],
   "source": [
    "tt2 = npy.linspace(res.T0-1, res.Tend+1, 1000)\n",
    "\n",
    "plt.plot(tt2, res.time_transition_func(tt2), '-')\n",
    "plt.plot(tt2, res.deriv_func(tt2), '-')\n",
    "plt.plot(tt2, res.deriv_func2(tt2), ':')\n",
    "# plt.axis([-3, 5, -1, N*1.1])\n",
    "plt.grid()"
   ]
  },
  {
   "cell_type": "markdown",
   "metadata": {},
   "source": [
    "#### Using this scaling we now calculate $\\dot \\theta$ and $\\ddot \\theta$"
   ]
  },
  {
   "cell_type": "code",
   "execution_count": null,
   "metadata": {},
   "outputs": [],
   "source": [
    "from scipy.interpolate import splrep, splev, interp1d\n",
    "\n",
    "def get_derivatives(XX, time_scaling, res=100):\n",
    "    \"\"\"\n",
    "    :param XX:             Nxm array \n",
    "    :param time_scaling:   container for time scaling\n",
    "    :param res:            time resolution of the returned arrays\n",
    "    \"\"\"\n",
    "    \n",
    "    N = XX.shape[0]\n",
    "    Tend = time_scaling.Tend\n",
    "    assert npy.isclose(time_scaling.time_transition_func([0, Tend])[-1], N)\n",
    "    \n",
    "    tt = npy.linspace(time_scaling.T0, time_scaling.Tend, res)\n",
    "    NN = npy.arange(N)\n",
    "    \n",
    "    # high_resolution version of index arry\n",
    "    NN2 = npy.linspace(0, N, res, endpoint=False)\n",
    "    \n",
    "    # time-scaled verion of index-array\n",
    "    NN3 = time_scaling.time_transition_func(tt)\n",
    "    NN3d = time_scaling.deriv_func(tt)\n",
    "    NN3dd = time_scaling.deriv_func2(tt)\n",
    "    \n",
    "    XX_num, XXd_num, XXdd_num = [], [], []\n",
    "    \n",
    "    # iterate over every column\n",
    "    for col in XX.T:\n",
    "        spl = splrep(NN, col)\n",
    "        \n",
    "        # function value and derivatives\n",
    "        XX_num.append(splev(NN3, spl))\n",
    "        XXd_num.append(splev(NN3, spl, der=1))\n",
    "        XXdd_num.append(splev(NN3, spl, der=2))\n",
    "\n",
    "    XX_num = npy.array(XX_num).T\n",
    "    XXd_num = npy.array(XXd_num).T\n",
    "    XXdd_num = npy.array(XXdd_num).T\n",
    "    \n",
    "    NN3d_bc = npy.broadcast_to(NN3d, XX_num.T.shape).T\n",
    "    NN3dd_bc = npy.broadcast_to(NN3dd, XX_num.T.shape).T\n",
    "    \n",
    "    XXd_n = XXd_num*NN3d_bc\n",
    "    \n",
    "    # apply chain rule\n",
    "    XXdd_n = XXdd_num*NN3d_bc**2 + XXd_num*NN3dd_bc\n",
    "    \n",
    "    \n",
    "    \n",
    "    C = ipydex.Container(fetch_locals=True)\n",
    "    return C\n",
    "    \n",
    "C = XX_derivs = get_derivatives(XX[:, :], time_scaling=res)"
   ]
  },
  {
   "cell_type": "code",
   "execution_count": null,
   "metadata": {},
   "outputs": [],
   "source": [
    "fig = plt.figure(figsize=(10, 5))\n",
    "plt.plot(C.NN, C.XX[:, :6], \".\")\n",
    "plt.plot(C.NN3, C.XX_num[:, :6], \"-\")"
   ]
  },
  {
   "cell_type": "code",
   "execution_count": null,
   "metadata": {},
   "outputs": [],
   "source": [
    "plt.plot(C.tt, C.XXdd_n[:, :6], \"-\")"
   ]
  },
  {
   "cell_type": "code",
   "execution_count": null,
   "metadata": {},
   "outputs": [],
   "source": [
    "q = C.XXdd_n[:, 0]\n",
    "dt = C.tt[1] ##:\n",
    "\n",
    "qq = npy.cumsum(npy.cumsum(q))*dt**2\n",
    "\n",
    "plt.plot(C.tt, C.XX_num[0, 0]+qq)\n",
    "plt.plot(C.tt, C.XX_num[:, 0])\n",
    "\n",
    "\n"
   ]
  },
  {
   "cell_type": "markdown",
   "metadata": {},
   "source": [
    "Calculate:\n",
    "$$\n",
    "D(\\theta, \\dot \\theta, \\ddot \\theta) := M(\\theta) \\ddot \\theta + C(\\theta, \\dot \\theta) + K(\\theta)\n",
    "$$\n",
    "\n",
    "which can then be used to calculate the right hand side\n",
    "$$\n",
    "RHS = - A^T(\\theta) \\lambda + B(\\theta) \\tau\n",
    "$$\n",
    "\n"
   ]
  },
  {
   "cell_type": "code",
   "execution_count": null,
   "metadata": {},
   "outputs": [],
   "source": [
    "expr = mod.eqns.subz0(mod.uu, mod.llmd).subs(parameter_values)\n",
    "dynterm_func = st.expr_to_func(ttheta_all, expr)"
   ]
  },
  {
   "cell_type": "code",
   "execution_count": null,
   "metadata": {},
   "outputs": [],
   "source": [
    "def get_torques(dyn_term_func, XX_derivs, static1=False, static2=False):\n",
    "        \n",
    "    ttheta_num_all = npy.c_[XX_derivs.XX_num[:, :n], XX_derivs.XXd_n[:, :n], XX_derivs.XXdd_n[:, :n]] ##:S\n",
    "    \n",
    "    if static1:\n",
    "        # set velocities to 0\n",
    "        ttheta_num_all[:, n:2*n] = 0\n",
    "    \n",
    "    if static2:\n",
    "        # set accelerations to 0\n",
    "        ttheta_num_all[:, 2*n:] = 0\n",
    "    \n",
    "        \n",
    "    res = dynterm_func(*ttheta_num_all.T)\n",
    "    return res"
   ]
  },
  {
   "cell_type": "code",
   "execution_count": null,
   "metadata": {},
   "outputs": [],
   "source": [
    "[x*255 for x in plt.get_cmap(\"tab10\")(1)]"
   ]
  },
  {
   "cell_type": "code",
   "execution_count": null,
   "metadata": {},
   "outputs": [],
   "source": [
    "# Check if in the static case we get the same values for ttau and llmd as with casadi: \n",
    "\n",
    "lhs_static = get_torques(dynterm_func, XX_derivs, static1=True, static2=True) ##:i\n",
    "lhs_dynamic = get_torques(dynterm_func, XX_derivs, static2=False) ##:i\n",
    "\n",
    "\n",
    "# already defined above\n",
    "# color_cycle = cycler(color=['#1F77B4', '#294BBB', '#15B494', '#ff7f0e', '#FFA30E', '#FF480E'])\n",
    "\n",
    "plt.figure(figsize=(10,5))\n",
    "\n",
    "plt.gca().set_prop_cycle(color_cycle)\n",
    "plt.plot(XX_derivs.tt, lhs_static, \"-\", lw=2)\n",
    "axis = plt.axis()\n",
    "plt.plot(XX_derivs.tt, lhs_dynamic, \"--\", lw=1)\n",
    "\n",
    "plt.xlabel(\"$t$ [s]\")\n",
    "plt.ylabel(\"torque [Nm]\")\n",
    "plt.legend([\"$\\\\tau_1$\", \"$\\\\tau_2$\", \"$\\\\tau_3$\", \"$\\\\tau_4$\", \"$\\\\tau_5$\", \"$\\\\tau_6$\"])\n",
    "\n",
    "# plt.axis(axis)\n",
    "\n",
    "plt.title(\"static vs. dynamic LHS\")"
   ]
  },
  {
   "cell_type": "code",
   "execution_count": null,
   "metadata": {},
   "outputs": [],
   "source": [
    "# probe: Optimierungsproblem lösen muss für statischen Fall ähnliches Ergebnis wie bisheriges bringen\n",
    "# (vermutlich nicht gleich, weil bisher die Kostenfunktion noch mehr Terme enthielt)\n",
    "\n",
    "\n",
    "mmu_stat_list = []\n",
    "mmu_dyn_list = []\n",
    "for L_k_stat, L_k_dyn, ttheta_k in zip(lhs_static, lhs_dynamic, XX_derivs.XX_num[:, :n]):\n",
    "    K1_k = K1_func(*ttheta_k)\n",
    "    mmu_stat_k = solve_qlp(L_k_stat, K1_k, rho)\n",
    "    mmu_stat_list.append(mmu_stat_k)\n",
    "    \n",
    "    mmu_dyn_k = solve_qlp(L_k_dyn, K1_k, rho)\n",
    "    mmu_dyn_list.append(mmu_dyn_k)\n",
    "    \n",
    "mmu_stat_all = npy.array(mmu_stat_list) ##:S\n",
    "mmu_dyn_all = npy.array(mmu_dyn_list) ##:S\n",
    "\n",
    "plt.rcParams['text.usetex'] = True\n",
    "plt.rcParams[\"axes.labelsize\"] = 16\n",
    "\n",
    "plt.rcParams['figure.subplot.bottom'] = .22\n",
    "plt.rcParams['figure.subplot.left'] = .18\n",
    "plt.rcParams['figure.subplot.top'] = .92\n",
    "plt.rcParams['figure.subplot.right'] = .97\n",
    "\n",
    "\n",
    "mm = 1./25.4 #mm to inch\n",
    "scale = 2\n",
    "fs = [55*mm*scale, 35*mm*scale]\n",
    "plt.figure(figsize=fs)\n",
    "\n",
    "plt.gca().set_prop_cycle(color_cycle)\n",
    "plt.plot(XX_derivs.tt, mmu_stat_all[:, :n], \"-\", lw=2)\n",
    "\n",
    "plt.gca().set_prop_cycle(color_cycle)\n",
    "plt.plot(XX_derivs.tt, mmu_dyn_all[:, :n], \"--\", lw=1)\n",
    "\n",
    "\n",
    "# plt.gca().set_prop_cycle(color_cycle)\n",
    "# plt.plot(XX_derivs.tt, XX_derivs.XX_num[:, 6:-2], \":\")\n",
    "\n",
    "plt.xlabel(r\"$t$ [s]\")\n",
    "plt.ylabel(r\"$\\tau_i$ [Nm]\")\n",
    "plt.legend([\"$\\\\tau_1$\", \"$\\\\tau_2$\", \"$\\\\tau_3$\", \"$\\\\tau_4$\", \"$\\\\tau_5$\", \"$\\\\tau_6$\"])\n",
    "\n",
    "plt.savefig(\"static_vs_dynamic_torques.pdf\")"
   ]
  },
  {
   "cell_type": "code",
   "execution_count": null,
   "metadata": {},
   "outputs": [],
   "source": [
    "\n",
    "plt.figure(figsize=fs)\n",
    "\n",
    "plt.gca().set_prop_cycle(color_cycle)\n",
    "plt.plot(XX_derivs.tt, XX_derivs.XX_num[:, :6], \"-\")\n",
    "\n",
    "\n",
    "plt.xlabel(r\"$t$ [s]\")\n",
    "plt.ylabel(r\"$\\theta_i$ [rad]\")\n",
    "plt.legend([\"$\\\\theta_1$\", \"$\\\\theta_2$\", \"$\\\\theta_3$\", \"$\\\\theta_4$\", \"$\\\\theta_5$\", \"$\\\\theta_6$\"], loc=\"lower right\")\n",
    "\n",
    "\n",
    "plt.savefig(\"joint_angles.pdf\")"
   ]
  },
  {
   "cell_type": "code",
   "execution_count": null,
   "metadata": {},
   "outputs": [],
   "source": [
    "\n",
    "\n",
    "plt.rcParams[\"text.latex.preamble\"]\n",
    "\n",
    "plt.rcParams[\"font.family\"]# =\"serif\""
   ]
  },
  {
   "cell_type": "code",
   "execution_count": null,
   "metadata": {},
   "outputs": [],
   "source": [
    "ipydex.dirsearch(\"font\", plt.rcParams)"
   ]
  },
  {
   "cell_type": "code",
   "execution_count": null,
   "metadata": {},
   "outputs": [],
   "source": [
    "plt.gca().set_prop_cycle(color_cycle)\n",
    "plt.plot(XX_derivs.tt, XX_derivs.XX_num[:, 6:-2])"
   ]
  },
  {
   "cell_type": "code",
   "execution_count": null,
   "metadata": {},
   "outputs": [],
   "source": [
    "plt.plot(XX_derivs.tt, XX_derivs.XXdd_n[:, :6])"
   ]
  },
  {
   "cell_type": "code",
   "execution_count": null,
   "metadata": {},
   "outputs": [],
   "source": [
    "plt.plot(XX_derivs.tt, XX_derivs.XXdd_num)"
   ]
  },
  {
   "cell_type": "code",
   "execution_count": null,
   "metadata": {},
   "outputs": [],
   "source": [
    "ttheta_num_all = npy.c_[XX_derivs.XX_num[:, :n], XX_derivs.XXd_n[:, :n], XX_derivs.XXdd_n[:, :n]] ##:S"
   ]
  },
  {
   "cell_type": "code",
   "execution_count": null,
   "metadata": {},
   "outputs": [],
   "source": [
    "dynterm_func(*ttheta_num_all.T) ##:S"
   ]
  },
  {
   "cell_type": "code",
   "execution_count": null,
   "metadata": {},
   "outputs": [],
   "source": [
    "len(ttheta_all)"
   ]
  },
  {
   "cell_type": "code",
   "execution_count": null,
   "metadata": {},
   "outputs": [],
   "source": [
    "from importlib import reload\n",
    "reload(st)"
   ]
  },
  {
   "cell_type": "code",
   "execution_count": null,
   "metadata": {},
   "outputs": [],
   "source": [
    "expr[0]"
   ]
  },
  {
   "cell_type": "code",
   "execution_count": null,
   "metadata": {},
   "outputs": [],
   "source": [
    "plt.plot(C.tt, C.XXdd_n[:, :6], \"-\")"
   ]
  },
  {
   "cell_type": "code",
   "execution_count": null,
   "metadata": {},
   "outputs": [],
   "source": [
    "plt.plot(XX_derivs.tt, XX_derivs.XXdd_n[:, :6])"
   ]
  },
  {
   "cell_type": "code",
   "execution_count": null,
   "metadata": {},
   "outputs": [],
   "source": [
    "XX.shape"
   ]
  },
  {
   "cell_type": "code",
   "execution_count": null,
   "metadata": {},
   "outputs": [],
   "source": [
    "# frames = [0, 50, 120, 199] # for N=200\n",
    "frames = [0, 25, 60, 99]\n",
    "\n",
    "ttheta_onion = XX[:, :6]\n",
    "ttheta_onion = ttheta_onion[frames, :]\n",
    "\n",
    "fig, ax = vis.create_default_axes()\n",
    "fig.set_size_inches(4, 6)\n",
    "ax.grid(False)\n",
    "ax.set_axis_off()\n",
    "ax.set_xlim(-0.3, 0.7)\n",
    "ax.set_ylim(-0.05, 1.6)\n",
    "\n",
    "# draw chair\n",
    "from matplotlib.patches import Rectangle\n",
    "chair = Rectangle((0.4, 0), 1, 0.3, color=\"lightgray\")\n",
    "ax.add_patch(chair)\n",
    "\n",
    "# plot onion skins\n",
    "# change_alpha=True tweaks the alpha channel, change_alpha=False tweaks the color lightness\n",
    "vis.plot_onion_skinned(ttheta_onion, axes=ax, change_alpha=True, max_lightness=0.75)\n",
    "\n",
    "plt.tight_layout()\n",
    "\n",
    "plt.savefig(\"assisted_standup_anim.pdf\")"
   ]
  },
  {
   "cell_type": "code",
   "execution_count": null,
   "metadata": {},
   "outputs": [],
   "source": []
  }
 ],
 "metadata": {
  "kernelspec": {
   "display_name": "Python 3",
   "language": "python",
   "name": "python3"
  },
  "language_info": {
   "codemirror_mode": {
    "name": "ipython",
    "version": 3
   },
   "file_extension": ".py",
   "mimetype": "text/x-python",
   "name": "python",
   "nbconvert_exporter": "python",
   "pygments_lexer": "ipython3",
   "version": "3.7.2"
  }
 },
 "nbformat": 4,
 "nbformat_minor": 2
}
